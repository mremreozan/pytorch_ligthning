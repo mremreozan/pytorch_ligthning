{
  "cells": [
    {
      "cell_type": "markdown",
      "metadata": {
        "id": "bmGDVMuyiqPC"
      },
      "source": [
        "# 1-) Clone the project github repo"
      ]
    },
    {
      "cell_type": "code",
      "execution_count": null,
      "metadata": {
        "id": "nvmqMSkJiqPG"
      },
      "outputs": [],
      "source": [
        "!git clone https://github.com/mremreozan/pytorch_ligthning"
      ]
    },
    {
      "cell_type": "markdown",
      "metadata": {
        "id": "X3OJt5iiiqPH"
      },
      "source": [
        "# 2-) Install python3.8 in google colab"
      ]
    },
    {
      "cell_type": "code",
      "execution_count": null,
      "metadata": {
        "id": "nSIayH-5iqPI"
      },
      "outputs": [],
      "source": [
        "!apt install python3.8"
      ]
    },
    {
      "cell_type": "markdown",
      "metadata": {
        "id": "_gSDMNbLiqPI"
      },
      "source": [
        "# 3-) Install virtualenv to create a virtual environment in google colab"
      ]
    },
    {
      "cell_type": "code",
      "execution_count": null,
      "metadata": {
        "id": "mvSiM_r7iqPJ"
      },
      "outputs": [],
      "source": [
        "!pip3 install virtualenv"
      ]
    },
    {
      "cell_type": "markdown",
      "metadata": {
        "id": "ObCskKY-iqPJ"
      },
      "source": [
        "# 4-) Create your virtual environment"
      ]
    },
    {
      "cell_type": "code",
      "source": [
        "cd pytorch_ligthning"
      ],
      "metadata": {
        "id": "gzP4S7PBm0ta"
      },
      "execution_count": null,
      "outputs": []
    },
    {
      "cell_type": "code",
      "execution_count": null,
      "metadata": {
        "id": "UkKHYwzb9vvo"
      },
      "outputs": [],
      "source": [
        "!virtualenv -p python3.8 new_p3_env"
      ]
    },
    {
      "cell_type": "markdown",
      "metadata": {
        "id": "Z5xYHZNciqPL"
      },
      "source": [
        "# 5-) Install your necessary libraries"
      ]
    },
    {
      "cell_type": "code",
      "execution_count": null,
      "metadata": {
        "id": "K-rE6MEY-15v"
      },
      "outputs": [],
      "source": [
        "!source new_p3_env/bin/activate; pip3 install -r requirements.txt"
      ]
    },
    {
      "cell_type": "code",
      "source": [
        "!source new_p3_env/bin/activate; pip install protobuf==3.20.0\n",
        "!source new_p3_env/bin/activate; export PROTOCOL_BUFFERS_PYTHON_IMPLEMENTATION=python"
      ],
      "metadata": {
        "id": "qrJs_Cask3qk"
      },
      "execution_count": null,
      "outputs": []
    },
    {
      "cell_type": "markdown",
      "metadata": {
        "id": "Wjc1NSNjiqPM"
      },
      "source": [
        "# 6-) Create and Train your model"
      ]
    },
    {
      "cell_type": "code",
      "execution_count": null,
      "metadata": {
        "colab": {
          "base_uri": "https://localhost:8080/"
        },
        "id": "JbZ7SHPe_r8R",
        "outputId": "61f17f2d-556d-449e-9117-077f23d2c3e1"
      },
      "outputs": [
        {
          "output_type": "stream",
          "name": "stdout",
          "text": [
            "Downloading: 100% 382/382 [00:00<00:00, 253kB/s]\n",
            "Downloading: 100% 232k/232k [00:00<00:00, 913kB/s]\n",
            "Downloading: 100% 17.7M/17.7M [00:00<00:00, 68.7MB/s]\n",
            "GPU available: True, used: True\n",
            "TPU available: False, using: 0 TPU cores\n",
            "Downloading: 28.8kB [00:00, 22.2MB/s]       \n",
            "Downloading: 28.7kB [00:00, 24.1MB/s]       \n",
            "Downloading and preparing dataset glue/cola (download: 368.14 KiB, generated: 596.73 KiB, post-processed: Unknown size, total: 964.86 KiB) to /root/.cache/huggingface/datasets/glue/cola/1.0.0/dacbe3125aa31d7f70367a07a8a9e72a5a0bfeb5fc42e75c9db75b96da6053ad...\n",
            "Downloading: 100% 377k/377k [00:00<00:00, 10.0MB/s]\n",
            "Dataset glue downloaded and prepared to /root/.cache/huggingface/datasets/glue/cola/1.0.0/dacbe3125aa31d7f70367a07a8a9e72a5a0bfeb5fc42e75c9db75b96da6053ad. Subsequent calls will reuse this data.\n",
            "100% 9/9 [00:01<00:00,  8.37ba/s]\n",
            "100% 2/2 [00:00<00:00, 11.96ba/s]\n",
            "LOCAL_RANK: 0 - CUDA_VISIBLE_DEVICES: [0]\n",
            "\n",
            "  | Name | Type      | Params\n",
            "-----------------------------------\n",
            "0 | bert | BertModel | 4.4 M \n",
            "1 | W    | Linear    | 258   \n",
            "-----------------------------------\n",
            "4.4 M     Trainable params\n",
            "0         Non-trainable params\n",
            "4.4 M     Total params\n",
            "17.545    Total estimated model params size (MB)\n",
            "Epoch 0:  93% 280/301 [00:21<00:01, 12.98it/s, loss=0.614, v_num=1, val_loss=0.637, val_acc=0.641, train_loss=0.569]\n",
            "Validating: 0it [00:00, ?it/s]\u001b[A\n",
            "Validating:   0% 0/33 [00:00<?, ?it/s]\u001b[A\n",
            "Epoch 0: 100% 300/301 [00:22<00:00, 13.27it/s, loss=0.614, v_num=1, val_loss=0.637, val_acc=0.641, train_loss=0.569]\n",
            "Epoch 0: 100% 301/301 [00:23<00:00, 12.94it/s, loss=0.581, v_num=1, val_loss=0.622, val_acc=0.691, train_loss=0.887]\n",
            "Epoch 1:  93% 280/301 [00:21<00:01, 13.23it/s, loss=0.601, v_num=1, val_loss=0.622, val_acc=0.691, train_loss=0.592]\n",
            "Validating: 0it [00:00, ?it/s]\u001b[A\n",
            "Validating:   0% 0/33 [00:00<?, ?it/s]\u001b[A\n",
            "Epoch 1: 100% 300/301 [00:22<00:00, 13.52it/s, loss=0.601, v_num=1, val_loss=0.622, val_acc=0.691, train_loss=0.592]\n",
            "Epoch 1: 100% 301/301 [00:22<00:00, 13.17it/s, loss=0.613, v_num=1, val_loss=0.620, val_acc=0.691, train_loss=0.705]\n",
            "Epoch 2:  93% 280/301 [00:21<00:01, 13.26it/s, loss=0.607, v_num=1, val_loss=0.620, val_acc=0.691, train_loss=0.676]\n",
            "Validating: 0it [00:00, ?it/s]\u001b[A\n",
            "Validating:   0% 0/33 [00:00<?, ?it/s]\u001b[A\n",
            "Epoch 2: 100% 300/301 [00:22<00:00, 13.54it/s, loss=0.607, v_num=1, val_loss=0.620, val_acc=0.691, train_loss=0.676]\n",
            "Epoch 2: 100% 301/301 [00:22<00:00, 13.19it/s, loss=0.633, v_num=1, val_loss=0.623, val_acc=0.691, train_loss=0.617]\n",
            "Epoch 3:  93% 280/301 [00:21<00:01, 13.26it/s, loss=0.642, v_num=1, val_loss=0.623, val_acc=0.691, train_loss=0.668]\n",
            "Validating: 0it [00:00, ?it/s]\u001b[A\n",
            "Validating:   0% 0/33 [00:00<?, ?it/s]\u001b[A\n",
            "Epoch 3: 100% 300/301 [00:22<00:00, 13.55it/s, loss=0.642, v_num=1, val_loss=0.623, val_acc=0.691, train_loss=0.668]\n",
            "Epoch 3: 100% 301/301 [00:22<00:00, 13.20it/s, loss=0.633, v_num=1, val_loss=0.618, val_acc=0.691, train_loss=0.705]\n",
            "Epoch 4:  93% 280/301 [00:21<00:01, 13.20it/s, loss=0.609, v_num=1, val_loss=0.618, val_acc=0.691, train_loss=0.598]\n",
            "Validating: 0it [00:00, ?it/s]\u001b[A\n",
            "Validating:   0% 0/33 [00:00<?, ?it/s]\u001b[A\n",
            "Epoch 4: 100% 300/301 [00:22<00:00, 13.49it/s, loss=0.609, v_num=1, val_loss=0.618, val_acc=0.691, train_loss=0.598]\n",
            "Epoch 4: 100% 301/301 [00:22<00:00, 13.14it/s, loss=0.606, v_num=1, val_loss=0.618, val_acc=0.691, train_loss=0.583]\n",
            "Epoch 4: 100% 301/301 [00:23<00:00, 13.04it/s, loss=0.606, v_num=1, val_loss=0.618, val_acc=0.691, train_loss=0.583]\n"
          ]
        }
      ],
      "source": [
        "!source new_p3_env/bin/activate; python train.py"
      ]
    },
    {
      "cell_type": "markdown",
      "metadata": {
        "id": "Oe2aNW2QiqPO"
      },
      "source": [
        "# 7-) Test your model by predicting a new text "
      ]
    },
    {
      "cell_type": "code",
      "execution_count": null,
      "metadata": {
        "id": "yKkGLHGPA6Fw",
        "colab": {
          "base_uri": "https://localhost:8080/"
        },
        "outputId": "ce99ac49-db5f-421e-b6b2-a0987acb91f5"
      },
      "outputs": [
        {
          "output_type": "stream",
          "name": "stdout",
          "text": [
            "[{'label': 'unacceptable', 'score': 0.29981452226638794}, {'label': 'acceptable', 'score': 0.7001854181289673}]\n"
          ]
        }
      ],
      "source": [
        "!source new_p3_env/bin/activate; python3 inference.py \"The boy is sitting on a bench\""
      ]
    },
    {
      "cell_type": "code",
      "source": [
        ""
      ],
      "metadata": {
        "id": "4aW8SlXNGjZ2"
      },
      "execution_count": null,
      "outputs": []
    }
  ],
  "metadata": {
    "accelerator": "GPU",
    "colab": {
      "name": "google_colab_training.ipynb",
      "provenance": []
    },
    "interpreter": {
      "hash": "13564ba839a281c05d2a3fce9fb96ab836ac32be3d622bfa2abd92aacff71b72"
    },
    "kernelspec": {
      "display_name": "Python 3.7.13 ('nlp_project')",
      "language": "python",
      "name": "python3"
    },
    "language_info": {
      "codemirror_mode": {
        "name": "ipython",
        "version": 3
      },
      "file_extension": ".py",
      "mimetype": "text/x-python",
      "name": "python",
      "nbconvert_exporter": "python",
      "pygments_lexer": "ipython3",
      "version": "3.7.13"
    }
  },
  "nbformat": 4,
  "nbformat_minor": 0
}